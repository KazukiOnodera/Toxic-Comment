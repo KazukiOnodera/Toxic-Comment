{
 "cells": [
  {
   "cell_type": "code",
   "execution_count": 1,
   "metadata": {},
   "outputs": [],
   "source": [
    "import os \n",
    "os.chdir(\"/mnt/disks/kaggle/jigsaw-toxic-comment-classification-challenge/home\")"
   ]
  },
  {
   "cell_type": "code",
   "execution_count": 12,
   "metadata": {},
   "outputs": [],
   "source": [
    "import numpy as np\n",
    "import pandas as pd\n",
    "import matplotlib.pyplot as plt\n",
    "%matplotlib inline\n",
    "\n",
    "from keras.models import Sequential, Model\n",
    "from keras.layers import Dense, Conv1D, Input, MaxPool1D, Concatenate, Embedding, Flatten\n",
    "from keras.optimizers import Adam"
   ]
  },
  {
   "cell_type": "code",
   "execution_count": 3,
   "metadata": {},
   "outputs": [],
   "source": [
    "train = pd.read_csv(\"../input/train.csv\")\n",
    "test = pd.read_csv(\"../input/test.csv\")\n",
    "sample_submission = pd.read_csv(\"../input/sample_submission.csv\")"
   ]
  },
  {
   "cell_type": "code",
   "execution_count": 5,
   "metadata": {},
   "outputs": [],
   "source": [
    "dict_char = dict()\n",
    "\n",
    "# train\n",
    "for com in train[\"comment_text\"].values:\n",
    "    for c in com:\n",
    "        if c not in dict_char.keys():\n",
    "            dict_char[c] = [1, 0]\n",
    "        else:\n",
    "            dict_char[c][0] += 1\n",
    "# test\n",
    "for com in test[\"comment_text\"].values:\n",
    "    for c in com:\n",
    "        if c not in dict_char.keys():\n",
    "            dict_char[c] = [0, 1]\n",
    "        else:\n",
    "            dict_char[c][1] += 1"
   ]
  },
  {
   "cell_type": "code",
   "execution_count": 6,
   "metadata": {},
   "outputs": [],
   "source": [
    "# start from 3 because, 0:empty, 1:start, 2:end\n",
    "char_index = dict()\n",
    "cno = 3\n",
    "for c in dict_char.keys():\n",
    "    char_index[c] = cno\n",
    "    cno += 1"
   ]
  },
  {
   "cell_type": "code",
   "execution_count": 7,
   "metadata": {},
   "outputs": [],
   "source": [
    "TEXT_LENGTH = max(max([len(com) for com in train[\"comment_text\"].values]), max([len(com) for com in test[\"comment_text\"].values]))"
   ]
  },
  {
   "cell_type": "code",
   "execution_count": 9,
   "metadata": {},
   "outputs": [],
   "source": [
    "X_train_char = np.zeros((train.shape[0], TEXT_LENGTH+2), dtype=\"int32\")\n",
    "for i in range(train.shape[0]):\n",
    "    com = train[\"comment_text\"].values[i]\n",
    "    ind = 0\n",
    "    X_train_char[i, ind] = 1\n",
    "    for c in com:\n",
    "        ind += 1\n",
    "        X_train_char[i, ind] = char_index[c]\n",
    "    ind += 1\n",
    "    X_train_char[i, ind] = 2"
   ]
  },
  {
   "cell_type": "code",
   "execution_count": 26,
   "metadata": {},
   "outputs": [],
   "source": [
    "Y_train = np.array(train.iloc[:, 2:], dtype=\"int32\")"
   ]
  },
  {
   "cell_type": "code",
   "execution_count": 28,
   "metadata": {},
   "outputs": [
    {
     "name": "stdout",
     "output_type": "stream",
     "text": [
      "_________________________________________________________________\n",
      "Layer (type)                 Output Shape              Param #   \n",
      "=================================================================\n",
      "embedding_6 (Embedding)      (None, 5002, 8)           44360     \n",
      "_________________________________________________________________\n",
      "conv1d_30 (Conv1D)           (None, 5002, 16)          912       \n",
      "_________________________________________________________________\n",
      "conv1d_31 (Conv1D)           (None, 5002, 16)          1808      \n",
      "_________________________________________________________________\n",
      "conv1d_32 (Conv1D)           (None, 5002, 16)          1808      \n",
      "_________________________________________________________________\n",
      "max_pooling1d_8 (MaxPooling1 (None, 500, 16)           0         \n",
      "_________________________________________________________________\n",
      "conv1d_33 (Conv1D)           (None, 500, 32)           3616      \n",
      "_________________________________________________________________\n",
      "conv1d_34 (Conv1D)           (None, 500, 32)           7200      \n",
      "_________________________________________________________________\n",
      "conv1d_35 (Conv1D)           (None, 500, 32)           7200      \n",
      "_________________________________________________________________\n",
      "max_pooling1d_9 (MaxPooling1 (None, 5, 32)             0         \n",
      "_________________________________________________________________\n",
      "conv1d_36 (Conv1D)           (None, 5, 32)             1056      \n",
      "_________________________________________________________________\n",
      "conv1d_37 (Conv1D)           (None, 5, 32)             1056      \n",
      "_________________________________________________________________\n",
      "flatten_4 (Flatten)          (None, 160)               0         \n",
      "_________________________________________________________________\n",
      "dense_5 (Dense)              (None, 128)               20608     \n",
      "_________________________________________________________________\n",
      "dense_6 (Dense)              (None, 6)                 774       \n",
      "=================================================================\n",
      "Total params: 90,398.0\n",
      "Trainable params: 90,398.0\n",
      "Non-trainable params: 0.0\n",
      "_________________________________________________________________\n"
     ]
    }
   ],
   "source": [
    "# model\n",
    "model = Sequential()\n",
    "model.add(Embedding(cno, 8, input_length=TEXT_LENGTH+2))\n",
    "model.add(Conv1D(16, 7, activation=\"relu\", padding=\"same\"))\n",
    "model.add(Conv1D(16, 7, activation=\"relu\", padding=\"same\"))\n",
    "model.add(Conv1D(16, 7, activation=\"relu\", padding=\"same\"))\n",
    "model.add(MaxPool1D(10))\n",
    "model.add(Conv1D(32, 7, activation=\"relu\", padding=\"same\"))\n",
    "model.add(Conv1D(32, 7, activation=\"relu\", padding=\"same\"))\n",
    "model.add(Conv1D(32, 7, activation=\"relu\", padding=\"same\"))\n",
    "model.add(MaxPool1D(100))\n",
    "model.add(Conv1D(32, 1, activation=\"relu\", padding=\"same\"))\n",
    "model.add(Conv1D(32, 1, activation=\"relu\", padding=\"same\"))\n",
    "model.add(Flatten())\n",
    "model.add(Dense(128, activation=\"relu\"))\n",
    "model.add(Dense(6, activation=\"sigmoid\"))\n",
    "\n",
    "model.compile(optimizer=Adam(0.001), loss='binary_crossentropy', metrics=['accuracy'])\n",
    "model.summary()"
   ]
  },
  {
   "cell_type": "code",
   "execution_count": 29,
   "metadata": {},
   "outputs": [
    {
     "name": "stdout",
     "output_type": "stream",
     "text": [
      "Train on 127656 samples, validate on 31915 samples\n",
      "Epoch 1/10\n",
      "127656/127656 [==============================] - 1005s - loss: 0.1091 - acc: 0.9694 - val_loss: 0.0837 - val_acc: 0.9749\n",
      "Epoch 2/10\n",
      "127656/127656 [==============================] - 1006s - loss: 0.0796 - acc: 0.9755 - val_loss: 0.0755 - val_acc: 0.9763\n",
      "Epoch 3/10\n",
      "127656/127656 [==============================] - 1004s - loss: 0.0724 - acc: 0.9770 - val_loss: 0.0677 - val_acc: 0.9781\n",
      "Epoch 4/10\n",
      "127656/127656 [==============================] - 1004s - loss: 0.0653 - acc: 0.9787 - val_loss: 0.0643 - val_acc: 0.9780\n",
      "Epoch 5/10\n",
      "127656/127656 [==============================] - 1000s - loss: 0.0608 - acc: 0.9798 - val_loss: 0.0610 - val_acc: 0.9796\n",
      "Epoch 6/10\n",
      "127656/127656 [==============================] - 998s - loss: 0.0582 - acc: 0.9805 - val_loss: 0.0595 - val_acc: 0.9801\n",
      "Epoch 7/10\n",
      "127656/127656 [==============================] - 999s - loss: 0.0563 - acc: 0.9809 - val_loss: 0.0586 - val_acc: 0.9801\n",
      "Epoch 8/10\n",
      "127656/127656 [==============================] - 1000s - loss: 0.0547 - acc: 0.9812 - val_loss: 0.0568 - val_acc: 0.9806\n",
      "Epoch 9/10\n",
      "127656/127656 [==============================] - 999s - loss: 0.0534 - acc: 0.9815 - val_loss: 0.0558 - val_acc: 0.9809\n",
      "Epoch 10/10\n",
      "127656/127656 [==============================] - 1002s - loss: 0.0525 - acc: 0.9816 - val_loss: 0.0576 - val_acc: 0.9808\n"
     ]
    },
    {
     "data": {
      "text/plain": [
       "<keras.callbacks.History at 0x7fd7fab32ac8>"
      ]
     },
     "execution_count": 29,
     "metadata": {},
     "output_type": "execute_result"
    }
   ],
   "source": [
    "model.fit(X_train_char, Y_train, batch_size=32, epochs=10, validation_split=0.2)"
   ]
  },
  {
   "cell_type": "code",
   "execution_count": 30,
   "metadata": {},
   "outputs": [],
   "source": [
    "os.mkdir(\"../models\")"
   ]
  },
  {
   "cell_type": "code",
   "execution_count": 31,
   "metadata": {},
   "outputs": [],
   "source": [
    "model.save(\"../models/first_model.h5\")"
   ]
  },
  {
   "cell_type": "code",
   "execution_count": 32,
   "metadata": {},
   "outputs": [],
   "source": [
    "X_test_char = np.zeros((test.shape[0], TEXT_LENGTH+2), dtype=\"int32\")\n",
    "for i in range(test.shape[0]):\n",
    "    com = test[\"comment_text\"].values[i]\n",
    "    ind = 0\n",
    "    X_test_char[i, ind] = 1\n",
    "    for c in com:\n",
    "        ind += 1\n",
    "        X_test_char[i, ind] = char_index[c]\n",
    "    ind += 1\n",
    "    X_test_char[i, ind] = 2"
   ]
  },
  {
   "cell_type": "code",
   "execution_count": 33,
   "metadata": {},
   "outputs": [],
   "source": [
    "pred_test = model.predict(X_test_char)"
   ]
  },
  {
   "cell_type": "code",
   "execution_count": 34,
   "metadata": {},
   "outputs": [
    {
     "data": {
      "text/plain": [
       "(153164, 6)"
      ]
     },
     "execution_count": 34,
     "metadata": {},
     "output_type": "execute_result"
    }
   ],
   "source": [
    "pred_test.shape"
   ]
  },
  {
   "cell_type": "code",
   "execution_count": 35,
   "metadata": {},
   "outputs": [],
   "source": [
    "sub1 = sample_submission.copy()"
   ]
  },
  {
   "cell_type": "code",
   "execution_count": 37,
   "metadata": {},
   "outputs": [],
   "source": [
    "sub1.iloc[:, 1:] = pred_test"
   ]
  },
  {
   "cell_type": "code",
   "execution_count": 38,
   "metadata": {},
   "outputs": [
    {
     "data": {
      "text/html": [
       "<div>\n",
       "<style scoped>\n",
       "    .dataframe tbody tr th:only-of-type {\n",
       "        vertical-align: middle;\n",
       "    }\n",
       "\n",
       "    .dataframe tbody tr th {\n",
       "        vertical-align: top;\n",
       "    }\n",
       "\n",
       "    .dataframe thead th {\n",
       "        text-align: right;\n",
       "    }\n",
       "</style>\n",
       "<table border=\"1\" class=\"dataframe\">\n",
       "  <thead>\n",
       "    <tr style=\"text-align: right;\">\n",
       "      <th></th>\n",
       "      <th>id</th>\n",
       "      <th>toxic</th>\n",
       "      <th>severe_toxic</th>\n",
       "      <th>obscene</th>\n",
       "      <th>threat</th>\n",
       "      <th>insult</th>\n",
       "      <th>identity_hate</th>\n",
       "    </tr>\n",
       "  </thead>\n",
       "  <tbody>\n",
       "    <tr>\n",
       "      <th>0</th>\n",
       "      <td>00001cee341fdb12</td>\n",
       "      <td>0.994524</td>\n",
       "      <td>1.126254e-01</td>\n",
       "      <td>0.950155</td>\n",
       "      <td>0.028201</td>\n",
       "      <td>0.739588</td>\n",
       "      <td>0.097122</td>\n",
       "    </tr>\n",
       "    <tr>\n",
       "      <th>1</th>\n",
       "      <td>0000247867823ef7</td>\n",
       "      <td>0.013503</td>\n",
       "      <td>1.193749e-05</td>\n",
       "      <td>0.001597</td>\n",
       "      <td>0.000102</td>\n",
       "      <td>0.002074</td>\n",
       "      <td>0.000849</td>\n",
       "    </tr>\n",
       "    <tr>\n",
       "      <th>2</th>\n",
       "      <td>00013b17ad220c46</td>\n",
       "      <td>0.025214</td>\n",
       "      <td>4.437889e-05</td>\n",
       "      <td>0.003130</td>\n",
       "      <td>0.000343</td>\n",
       "      <td>0.004499</td>\n",
       "      <td>0.001786</td>\n",
       "    </tr>\n",
       "    <tr>\n",
       "      <th>3</th>\n",
       "      <td>00017563c3f7919a</td>\n",
       "      <td>0.001357</td>\n",
       "      <td>8.285598e-08</td>\n",
       "      <td>0.000141</td>\n",
       "      <td>0.000001</td>\n",
       "      <td>0.000124</td>\n",
       "      <td>0.000054</td>\n",
       "    </tr>\n",
       "    <tr>\n",
       "      <th>4</th>\n",
       "      <td>00017695ad8997eb</td>\n",
       "      <td>0.031977</td>\n",
       "      <td>6.835980e-05</td>\n",
       "      <td>0.003991</td>\n",
       "      <td>0.000499</td>\n",
       "      <td>0.005923</td>\n",
       "      <td>0.002247</td>\n",
       "    </tr>\n",
       "  </tbody>\n",
       "</table>\n",
       "</div>"
      ],
      "text/plain": [
       "                 id     toxic  severe_toxic   obscene    threat    insult  \\\n",
       "0  00001cee341fdb12  0.994524  1.126254e-01  0.950155  0.028201  0.739588   \n",
       "1  0000247867823ef7  0.013503  1.193749e-05  0.001597  0.000102  0.002074   \n",
       "2  00013b17ad220c46  0.025214  4.437889e-05  0.003130  0.000343  0.004499   \n",
       "3  00017563c3f7919a  0.001357  8.285598e-08  0.000141  0.000001  0.000124   \n",
       "4  00017695ad8997eb  0.031977  6.835980e-05  0.003991  0.000499  0.005923   \n",
       "\n",
       "   identity_hate  \n",
       "0       0.097122  \n",
       "1       0.000849  \n",
       "2       0.001786  \n",
       "3       0.000054  \n",
       "4       0.002247  "
      ]
     },
     "execution_count": 38,
     "metadata": {},
     "output_type": "execute_result"
    }
   ],
   "source": [
    "sub1.head()"
   ]
  },
  {
   "cell_type": "code",
   "execution_count": 39,
   "metadata": {},
   "outputs": [],
   "source": [
    "os.mkdir(\"../submit\")"
   ]
  },
  {
   "cell_type": "code",
   "execution_count": 40,
   "metadata": {},
   "outputs": [],
   "source": [
    "sub1.to_csv(\"../submit/sub1_hrd_0211.csv\", index=False)"
   ]
  },
  {
   "cell_type": "code",
   "execution_count": null,
   "metadata": {},
   "outputs": [],
   "source": []
  }
 ],
 "metadata": {
  "kernelspec": {
   "display_name": "Python 3",
   "language": "python",
   "name": "python3"
  },
  "language_info": {
   "codemirror_mode": {
    "name": "ipython",
    "version": 3
   },
   "file_extension": ".py",
   "mimetype": "text/x-python",
   "name": "python",
   "nbconvert_exporter": "python",
   "pygments_lexer": "ipython3",
   "version": "3.6.3"
  }
 },
 "nbformat": 4,
 "nbformat_minor": 2
}
